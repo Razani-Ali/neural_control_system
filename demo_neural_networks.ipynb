{
 "cells": [
  {
   "cell_type": "code",
   "execution_count": null,
   "metadata": {},
   "outputs": [],
   "source": [
    "from layers.Dense_network import Dense\n",
    "from layers.Rough_network import Rough\n",
    "from layers.RBF_network import RBF\n",
    "from layers.Rough_RBF import Rough_RBF\n",
    "from losses.MeanSquaredError import MSE\n",
    "from losses.CategoricalCrossEntropy import Entropy\n",
    "from utils import sliding_window, plot_curve_fitting, plot_regression\n",
    "from compile import compile\n",
    "import numpy as np\n",
    "from utils import one_hot_encoder, plot_confusion_matrix, visualize2D_data\n",
    "import pandas as pd\n",
    "from sklearn.model_selection import train_test_split, StratifiedShuffleSplit\n",
    "from sklearn.preprocessing import MinMaxScaler\n",
    "from layers.Flexible_Dense import flexible_Dense"
   ]
  },
  {
   "cell_type": "code",
   "execution_count": null,
   "metadata": {},
   "outputs": [],
   "source": [
    "path = 'data\\\\ECG Datasets.xlsx'\n",
    "x=pd.read_excel(path, header=None).to_numpy()[1:].astype('float32')"
   ]
  },
  {
   "cell_type": "code",
   "execution_count": null,
   "metadata": {},
   "outputs": [],
   "source": [
    "scaler = MinMaxScaler()\n",
    "x = scaler.fit_transform(x)\n",
    "data = sliding_window(x, 4)\n",
    "X = data[:, :-1]\n",
    "Y = data[:,-1]\n",
    "X_train, X_val, Y_train, Y_val = train_test_split(X, Y, test_size=0.3, shuffle=False)\n",
    "X_test, X_val, Y_test, Y_val = train_test_split(X, Y, test_size=0.5, shuffle=False)"
   ]
  },
  {
   "cell_type": "code",
   "execution_count": null,
   "metadata": {},
   "outputs": [],
   "source": [
    "layer0 = Dense(input_size=3, output_size=5)\n",
    "layer2 = Dense(input_size=5, output_size=1, activation='linear')\n",
    "model = compile([layer0, layer2])\n",
    "t_params = model.trainable_params()\n",
    "n_params = model.all_params()\n",
    "print(f'number of model parameters is {n_params}')\n",
    "print(f'number of model trainable parameters is {t_params}')\n",
    "print(f'number of model non trainable parameters is {n_params - t_params}')\n"
   ]
  },
  {
   "cell_type": "code",
   "execution_count": null,
   "metadata": {},
   "outputs": [],
   "source": [
    "history = model.fit(X_train, X_val, Y_train.reshape(-1,1), Y_val.reshape(-1,1), MSE, epoch=12,\n",
    "                    learning_rate=1e-2, bias_learning_rate=2e-3, shuffle=True,\n",
    "                    plot_reg=True, plot_fitting=True, batch_size=32)"
   ]
  },
  {
   "cell_type": "code",
   "execution_count": null,
   "metadata": {},
   "outputs": [],
   "source": [
    "Y_test_predicted = model(X_test)\n",
    "mse = MSE.forward(Y_test_predicted, Y_test)\n",
    "print(f'Test MSE is {mse:.5f}')\n",
    "plot_curve_fitting(Y_test, Y_test_predicted)\n",
    "plot_regression(Y_test, Y_test_predicted)"
   ]
  },
  {
   "cell_type": "code",
   "execution_count": null,
   "metadata": {},
   "outputs": [],
   "source": [
    "path = 'data\\\\iris.csv'\n",
    "data=pd.read_csv(path, header=None).to_numpy()[1:]"
   ]
  },
  {
   "cell_type": "code",
   "execution_count": null,
   "metadata": {},
   "outputs": [],
   "source": [
    "X = data[:, :-1]\n",
    "scaler = MinMaxScaler()\n",
    "X = scaler.fit_transform(X)\n",
    "Y, labels = one_hot_encoder(data[:, -1])\n",
    "# Initialize StratifiedShuffleSplit to maintain class distribution across splits\n",
    "strat_split = StratifiedShuffleSplit(n_splits=1, test_size=0.2, random_state=42)\n",
    "# Stratified split for train and validation sets\n",
    "for train_idx, val_idx in strat_split.split(X, data[:, -1]):  # Pass class labels as stratification criterion\n",
    "    X_train, X_val = X[train_idx], X[val_idx]\n",
    "    Y_train, Y_val = Y[train_idx], Y[val_idx]\n",
    "# Split validation set further into validation and test using stratified sampling again\n",
    "strat_split_test = StratifiedShuffleSplit(n_splits=1, test_size=0.5, random_state=42)\n",
    "for val_idx, test_idx in strat_split_test.split(X_val, data[val_idx, -1]):\n",
    "    X_val, X_test = X_val[val_idx], X_val[test_idx]\n",
    "    Y_val, Y_test = Y_val[val_idx], Y_val[test_idx]\n",
    "# Now X_train, X_val, X_test, Y_train, Y_val, Y_test are class-wise split, \n",
    "# with consistent representation of each class in all datasets."
   ]
  },
  {
   "cell_type": "code",
   "execution_count": null,
   "metadata": {},
   "outputs": [],
   "source": [
    "layer0 = Dense(input_size=4, output_size=18, activation='tanh', weights_init_method='xavier')\n",
    "layer1 = Dense(input_size=18, output_size=9, activation='tanh', weights_init_method='xavier')\n",
    "layer2 = Dense(input_size=9, output_size=3, activation='softmax')\n",
    "model = compile([layer0, layer1, layer2])\n",
    "params = model.trainable_params()\n",
    "print(f'number of model trainable parameters is {params}')"
   ]
  },
  {
   "cell_type": "code",
   "execution_count": null,
   "metadata": {},
   "outputs": [],
   "source": [
    "history = model.fit(X_train, X_val, Y_train, Y_val, Entropy, epoch=120,\n",
    "                    shuffle=True, learning_rate=1.5e-2, bias_learning_rate=8e-3,\n",
    "                    classes=labels, plot_confusion=True, method='Adam', batch_size=8)"
   ]
  },
  {
   "cell_type": "code",
   "execution_count": null,
   "metadata": {},
   "outputs": [],
   "source": [
    "Y_test_predicted = model(X_test)\n",
    "entropy = Entropy.forward(Y_test_predicted, Y_test)\n",
    "print(f'Test Entropy is {entropy:.5f}')\n",
    "plot_confusion_matrix(Y_test, Y_test_predicted, labels)\n",
    "visualize2D_data(X_train, Y_train, model(X_train))"
   ]
  },
  {
   "cell_type": "code",
   "execution_count": null,
   "metadata": {},
   "outputs": [],
   "source": [
    "layer0 = flexible_Dense(input_size=3, output_size=5, activation='elu')\n",
    "layer2 = Dense(input_size=5, output_size=1, activation='linear')\n",
    "model = compile([layer0, layer2])\n",
    "params = model.trainable_params()\n",
    "print(f'number of model trainable parameters is {params}')"
   ]
  },
  {
   "cell_type": "code",
   "execution_count": null,
   "metadata": {},
   "outputs": [],
   "source": [
    "history = model.fit(X_train, X_val, Y_train.reshape(-1,1), Y_val.reshape(-1,1), MSE, epoch=25,\n",
    "                    learning_rate=5e-3, bias_learning_rate=1e-3, shuffle=True, plot_fitting=True)"
   ]
  }
 ],
 "metadata": {
  "kernelspec": {
   "display_name": "cpu_base",
   "language": "python",
   "name": "python3"
  },
  "language_info": {
   "codemirror_mode": {
    "name": "ipython",
    "version": 3
   },
   "file_extension": ".py",
   "mimetype": "text/x-python",
   "name": "python",
   "nbconvert_exporter": "python",
   "pygments_lexer": "ipython3",
   "version": "3.11.9"
  }
 },
 "nbformat": 4,
 "nbformat_minor": 2
}
